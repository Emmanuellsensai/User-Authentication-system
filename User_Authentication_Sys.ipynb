{
 "cells": [
  {
   "cell_type": "markdown",
   "id": "84c8ac33-450b-4d43-899a-c9577a953fcd",
   "metadata": {},
   "source": [
    "# User Authentication System"
   ]
  },
  {
   "cell_type": "code",
   "execution_count": 19,
   "id": "557cbaff-33c3-43bc-9dd0-45c0dc07c013",
   "metadata": {},
   "outputs": [
    {
     "name": "stdout",
     "output_type": "stream",
     "text": [
      "Users dictionary initialized: {}\n",
      "Ready to build!\n"
     ]
    }
   ],
   "source": [
    "users={}\n",
    "print(\"Users dictionary initialized:\", users)\n",
    "print(\"Ready to build!\")"
   ]
  },
  {
   "cell_type": "code",
   "execution_count": null,
   "id": "d689037c-d0d3-4233-854e-0823620c25bf",
   "metadata": {},
   "outputs": [],
   "source": [
    "users={ id: {\"email\":\"emmanuelusang60@gmail.com\", \"name\":\"Emmanuel Usang\", \"Password\": \"Password123\", \"is_admin\": False} }\n"
   ]
  },
  {
   "cell_type": "markdown",
   "id": "b5b26422-9749-4ac3-990a-4415ccba1684",
   "metadata": {},
   "source": [
    "# REGISTER FUNCTION"
   ]
  },
  {
   "cell_type": "code",
   "execution_count": 6,
   "id": "73305107-6d1b-4ba9-a496-b2f43713c5f6",
   "metadata": {},
   "outputs": [],
   "source": [
    "#initialize users dictionary\n",
    "users={}\n",
    "\n",
    "def register(email, name, password):\n",
    "    \n",
    "#EMAIL VALIDATION\n",
    "    if \"@\" not in email:\n",
    "        return {\"status\": \"error\", \"message\": \"invalid email format\"}\n",
    "\n",
    "#PASSWORD VALIDATION\n",
    "    if len(password)<8 or not any(c.isdigit() for c in password):\n",
    "        return {\"status\": \"error\", \"message\": \"password must be atleast 8 characters and contain a digit\"}\n",
    "\n",
    "#CHECK FOR DUPLICATE EMAIL\n",
    "    for user in users.values():\n",
    "        if user[\"email\"] == email:\n",
    "            return {\"status\":\"error\",\"message\": \"User email already taken\"}\n",
    "\n",
    "#Assign unique id\n",
    "    new_id=max(users.keys(), default=0) + 1\n",
    "\n",
    "#Create new user\n",
    "    new_user={ \"email\": email, \"name\": name, \"password\": password, \"is_admin\": False }\n",
    "    users[new_id]= new_user\n",
    "    \n",
    "    return {\"status\": \"success\", \"message\": \"User registered successfully\", \"user_id\": new_id}\n",
    "            \n",
    "    \n",
    "\n"
   ]
  },
  {
   "cell_type": "code",
   "execution_count": 9,
   "id": "001bcf62-8272-4d18-bb4f-66a3e14fc493",
   "metadata": {},
   "outputs": [
    {
     "name": "stdout",
     "output_type": "stream",
     "text": [
      "{'status': 'error', 'message': 'User email already taken'}\n",
      "users: {1: {'email': 'emmanuelusang60@gmail.com', 'name': 'Emmanuel Usang', 'password': 'Password123', 'is_admin': False}}\n"
     ]
    }
   ],
   "source": [
    "#FINAL for testing\n",
    "result= register(\"emmanuelusang60@gmail.com\", \"Emmanuel Usang\", \"Password123\")\n",
    "print(result)\n",
    "print(\"users:\",users)"
   ]
  },
  {
   "cell_type": "markdown",
   "id": "841ab5d0-99b2-4ef5-bfb8-798745ad49a6",
   "metadata": {},
   "source": [
    "# LOGIN FUNCTION"
   ]
  },
  {
   "cell_type": "code",
   "execution_count": 12,
   "id": "8933d7de-127a-442e-90ce-e495e7ff7726",
   "metadata": {},
   "outputs": [],
   "source": [
    "def login(email, password):\n",
    "    for user_id, user in users.items():\n",
    "        if user[\"email\"]== email:                                           #Check email\n",
    "            if user[\"password\"]== password:                                 #Check password\n",
    "                return {\"status\":\"success\",\"message\":\"Login succesful\",\"user_id\": user_id}\n",
    "            return {\"status\":\"error\",\"message\":\"invalid email or password\"}\n",
    "        return {\"status\":\"error\",\"message\":\"invalid email or password\"}      #If no user found"
   ]
  },
  {
   "cell_type": "code",
   "execution_count": 17,
   "id": "5eead775-992d-43f9-9dbb-de8f14cce271",
   "metadata": {},
   "outputs": [
    {
     "name": "stdout",
     "output_type": "stream",
     "text": [
      "{'status': 'success', 'message': 'Login succesful', 'user_id': 1}\n",
      "{'status': 'error', 'message': 'invalid email or password'}\n"
     ]
    }
   ],
   "source": [
    "result= login(\"emmanuelusang60@gmail.com\",\"Password123\")\n",
    "print(result)\n",
    "result= login(\"emmanuelusang6o@gmail.com\",\"Password123\")\n",
    "print(result)\n"
   ]
  },
  {
   "cell_type": "markdown",
   "id": "7b64fe6f-3895-4cbe-8de9-00913cdf64f0",
   "metadata": {},
   "source": [
    "# REMOVE USER FUNCTION"
   ]
  },
  {
   "cell_type": "code",
   "execution_count": 18,
   "id": "4baae12a-cf94-4504-a9b3-fe59717d4b0a",
   "metadata": {},
   "outputs": [],
   "source": [
    "def remove_user(user_id):\n",
    "    if user_id in users:\n",
    "        del users[user_id]\n",
    "        return {\"status\":\"error\",\"message\":\"User removed successfully\"}\n",
    "    return {\"status\":\"error\",\"message\":\"User removed successfully\"}"
   ]
  },
  {
   "cell_type": "code",
   "execution_count": 20,
   "id": "b5b754a6-c67f-4665-a9d1-ce606433e765",
   "metadata": {},
   "outputs": [
    {
     "name": "stdout",
     "output_type": "stream",
     "text": [
      "{'status': 'error', 'message': 'User removed successfully'}\n",
      "Users: {}\n",
      "{'status': 'error', 'message': 'User removed successfully'}\n"
     ]
    }
   ],
   "source": [
    "result= remove_user(1)  \n",
    "print(result)\n",
    "print(\"Users:\", users)\n",
    "result= remove_user(2)\n",
    "print(result)"
   ]
  },
  {
   "cell_type": "markdown",
   "id": "0de89bac-d593-44f0-a9de-69e0a33dfa26",
   "metadata": {},
   "source": [
    "# Project Complete:User Authentication System"
   ]
  },
  {
   "cell_type": "code",
   "execution_count": null,
   "id": "8e0029fa-399c-4490-a29b-106629f3f712",
   "metadata": {},
   "outputs": [],
   "source": []
  }
 ],
 "metadata": {
  "kernelspec": {
   "display_name": "Python 3 (ipykernel)",
   "language": "python",
   "name": "python3"
  },
  "language_info": {
   "codemirror_mode": {
    "name": "ipython",
    "version": 3
   },
   "file_extension": ".py",
   "mimetype": "text/x-python",
   "name": "python",
   "nbconvert_exporter": "python",
   "pygments_lexer": "ipython3",
   "version": "3.13.5"
  }
 },
 "nbformat": 4,
 "nbformat_minor": 5
}
